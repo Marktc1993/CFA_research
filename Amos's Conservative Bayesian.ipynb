{
 "cells": [
  {
   "cell_type": "markdown",
   "metadata": {},
   "source": [
    "# I want to explore the Prophet package for forecasting. \n",
    "Underneath the hood this procedure uses Additive Regression.\n",
    "There are four components: \n",
    "a piecewise linear or logistic growth curve trend. Prophet automatically detects changes in trends by selecting changepoints from the data.\n",
    "\n",
    "A yearly seasonal component is modeled using Fourier series.\n",
    "\n",
    "A weekly seasonal component using dummy variables.\n",
    "\n",
    "(Source: https://peerj.com/preprints/3190.pdf) \n",
    "\n",
    "Users can define a list of holidays, modeling future uncertainty with seasonality or holiday effects, we can run a few hundred Hamiltonian Monte Carlo iterations, to include this seasonal uncertainty estimates. \n",
    "\n",
    "\n",
    "The model uses the Stan probabilistic programming language. Stan performs the MAP (maximum a posteriori) optimization for parameters (recommended) or Hamiltonian Monte Carlo (not recommended due to poor convergence -Mark Conrad). \n"
   ]
  },
  {
   "cell_type": "code",
   "execution_count": 157,
   "metadata": {},
   "outputs": [],
   "source": [
    "import pandas as pd\n",
    "import numpy as np\n",
    "from fbprophet import Prophet\n",
    "import os # directory traversal\n"
   ]
  },
  {
   "cell_type": "code",
   "execution_count": 158,
   "metadata": {},
   "outputs": [
    {
     "name": "stdout",
     "output_type": "stream",
     "text": [
      "PCAR.csv              Prophet_Forecast.jpeg bayes_data.csv\r\n",
      "PCAR_five_years.csv   UGA.csv               max_years.csv\r\n"
     ]
    }
   ],
   "source": [
    "!ls\n",
    "# MUST NOTE THAT MY FILES ARE FAIRLY DISORGANIZED!\n"
   ]
  },
  {
   "cell_type": "code",
   "execution_count": 159,
   "metadata": {
    "collapsed": true
   },
   "outputs": [],
   "source": [
    "df = pd.read_csv(\"PCAR.csv\", encoding='utf-8')\n"
   ]
  },
  {
   "cell_type": "code",
   "execution_count": 160,
   "metadata": {},
   "outputs": [],
   "source": [
    "\n",
    "# Prophet requires columns with the name ds (x) and y:\n",
    "df['ds'] = pd.to_datetime(df['Date'])\n",
    "# We care about the closing price for PCAR's stock.\n",
    "df['y'] = df['Adj Close']"
   ]
  },
  {
   "cell_type": "code",
   "execution_count": 161,
   "metadata": {
    "collapsed": true
   },
   "outputs": [],
   "source": [
    "df[\"orig_y\"] = df['y']\n",
    "df[\"y\"] = (df[\"y\"]) \n",
    "# # taking the log reduces the outcome space to the exponent of e to get the original number.\n"
   ]
  },
  {
   "cell_type": "code",
   "execution_count": 162,
   "metadata": {},
   "outputs": [
    {
     "data": {
      "text/html": [
       "<div>\n",
       "<style scoped>\n",
       "    .dataframe tbody tr th:only-of-type {\n",
       "        vertical-align: middle;\n",
       "    }\n",
       "\n",
       "    .dataframe tbody tr th {\n",
       "        vertical-align: top;\n",
       "    }\n",
       "\n",
       "    .dataframe thead th {\n",
       "        text-align: right;\n",
       "    }\n",
       "</style>\n",
       "<table border=\"1\" class=\"dataframe\">\n",
       "  <thead>\n",
       "    <tr style=\"text-align: right;\">\n",
       "      <th></th>\n",
       "      <th>Date</th>\n",
       "      <th>Open</th>\n",
       "      <th>High</th>\n",
       "      <th>Low</th>\n",
       "      <th>Close</th>\n",
       "      <th>Adj Close</th>\n",
       "      <th>Volume</th>\n",
       "      <th>ds</th>\n",
       "      <th>y</th>\n",
       "      <th>orig_y</th>\n",
       "    </tr>\n",
       "  </thead>\n",
       "  <tbody>\n",
       "    <tr>\n",
       "      <th>0</th>\n",
       "      <td>2012-12-13</td>\n",
       "      <td>44.630001</td>\n",
       "      <td>44.810001</td>\n",
       "      <td>43.840000</td>\n",
       "      <td>43.900002</td>\n",
       "      <td>37.961784</td>\n",
       "      <td>2048300</td>\n",
       "      <td>2012-12-13</td>\n",
       "      <td>37.961784</td>\n",
       "      <td>37.961784</td>\n",
       "    </tr>\n",
       "    <tr>\n",
       "      <th>1</th>\n",
       "      <td>2012-12-14</td>\n",
       "      <td>44.009998</td>\n",
       "      <td>44.450001</td>\n",
       "      <td>43.860001</td>\n",
       "      <td>43.910000</td>\n",
       "      <td>37.970425</td>\n",
       "      <td>1974800</td>\n",
       "      <td>2012-12-14</td>\n",
       "      <td>37.970425</td>\n",
       "      <td>37.970425</td>\n",
       "    </tr>\n",
       "    <tr>\n",
       "      <th>2</th>\n",
       "      <td>2012-12-17</td>\n",
       "      <td>44.169998</td>\n",
       "      <td>44.349998</td>\n",
       "      <td>43.840000</td>\n",
       "      <td>44.310001</td>\n",
       "      <td>38.316319</td>\n",
       "      <td>1964300</td>\n",
       "      <td>2012-12-17</td>\n",
       "      <td>38.316319</td>\n",
       "      <td>38.316319</td>\n",
       "    </tr>\n",
       "    <tr>\n",
       "      <th>3</th>\n",
       "      <td>2012-12-18</td>\n",
       "      <td>44.450001</td>\n",
       "      <td>45.000000</td>\n",
       "      <td>44.290001</td>\n",
       "      <td>44.980000</td>\n",
       "      <td>38.895683</td>\n",
       "      <td>2025300</td>\n",
       "      <td>2012-12-18</td>\n",
       "      <td>38.895683</td>\n",
       "      <td>38.895683</td>\n",
       "    </tr>\n",
       "    <tr>\n",
       "      <th>4</th>\n",
       "      <td>2012-12-19</td>\n",
       "      <td>44.900002</td>\n",
       "      <td>45.439999</td>\n",
       "      <td>44.669998</td>\n",
       "      <td>44.939999</td>\n",
       "      <td>38.861092</td>\n",
       "      <td>2348600</td>\n",
       "      <td>2012-12-19</td>\n",
       "      <td>38.861092</td>\n",
       "      <td>38.861092</td>\n",
       "    </tr>\n",
       "  </tbody>\n",
       "</table>\n",
       "</div>"
      ],
      "text/plain": [
       "         Date       Open       High        Low      Close  Adj Close   Volume  \\\n",
       "0  2012-12-13  44.630001  44.810001  43.840000  43.900002  37.961784  2048300   \n",
       "1  2012-12-14  44.009998  44.450001  43.860001  43.910000  37.970425  1974800   \n",
       "2  2012-12-17  44.169998  44.349998  43.840000  44.310001  38.316319  1964300   \n",
       "3  2012-12-18  44.450001  45.000000  44.290001  44.980000  38.895683  2025300   \n",
       "4  2012-12-19  44.900002  45.439999  44.669998  44.939999  38.861092  2348600   \n",
       "\n",
       "          ds          y     orig_y  \n",
       "0 2012-12-13  37.961784  37.961784  \n",
       "1 2012-12-14  37.970425  37.970425  \n",
       "2 2012-12-17  38.316319  38.316319  \n",
       "3 2012-12-18  38.895683  38.895683  \n",
       "4 2012-12-19  38.861092  38.861092  "
      ]
     },
     "execution_count": 162,
     "metadata": {},
     "output_type": "execute_result"
    }
   ],
   "source": [
    "df.head()"
   ]
  },
  {
   "cell_type": "code",
   "execution_count": 163,
   "metadata": {
    "collapsed": true
   },
   "outputs": [],
   "source": [
    "# df = df.rename(columns = {\"date 30 min\":\"ds\", \"lst trd /lst prce\":'y'})\n",
    "df[\"ds\"] = pd.DatetimeIndex(df[\"ds\"])\n",
    "# ax = df.set_index('ds').plot(df['ds'],df['y'])\n",
    "df['y'] = df['Adj Close']"
   ]
  },
  {
   "cell_type": "code",
   "execution_count": 164,
   "metadata": {},
   "outputs": [
    {
     "data": {
      "text/plain": [
       "pandas._libs.tslib.Timestamp"
      ]
     },
     "execution_count": 164,
     "metadata": {},
     "output_type": "execute_result"
    }
   ],
   "source": [
    "type(df[\"ds\"][1])"
   ]
  },
  {
   "cell_type": "markdown",
   "metadata": {},
   "source": [
    "By default Prophet only returns uncertainty in the trend and observation noise. To get uncertainty in seasonality, we must do full Bayesian sampling as noted in the Facebook documentation. This process replaces the typical MAP with Markov Chain Monte Carlo (MCMC).\n",
    "\n",
    "### Important background information\n",
    "MAP stands for Maximum a posteriori estimation: in Bayesian statistics, a MAP estimate is an estimate of an unknown quantity that equals the mode of the posterior distribution. This gives us a point estimate of an unobserved quantity based on observed empirical data. \n",
    "\n",
    "MAP is related to maximum likelihood (ML) estimation which is a special case of MAP that is defined as a process of estimating the parameters of a statistical model given observations, essentially finding the parameter values that maximize the likelihood of making the observations given the parameters, maxmizing the agreement between a set of observations and the selected model (Source: Wikipedia). \n",
    "\n",
    "MAP differs in that it employs an augmented optimization objective incorporating a prior distribution incorporating additional information available through prior knowledge of a related event. We can simplify this definition as employing ML estimation with regularization (Source: Wikipedia).\n",
    "\n",
    "MCMC employs a full sampling and we will then see the uncertainty in seasonal components, which is great, however, it is much slower than the MAP estimation algorithm (especially on Windows using Python). For best results use R on Windows and Python on Unix based operating system.  "
   ]
  },
  {
   "cell_type": "code",
   "execution_count": 176,
   "metadata": {
    "collapsed": true
   },
   "outputs": [],
   "source": [
    "# We initialize our Prophet model, mcmc method can be used to generate its forecasts. MCMC is \n",
    "# a stochastic process giving us uncertainty intervals in our subplots.\n",
    "# HMC is awesome Stan's implementation from Gelman's team is really intriguing but we will use the default!\n",
    "# The default MAP estimation is quicker and tends to converge.\n",
    "my_model = Prophet( interval_width=0.95)# Prophet(interval_width=.95, uncertainty_samples=10000)"
   ]
  },
  {
   "cell_type": "code",
   "execution_count": null,
   "metadata": {
    "collapsed": true
   },
   "outputs": [],
   "source": []
  },
  {
   "cell_type": "code",
   "execution_count": 178,
   "metadata": {},
   "outputs": [],
   "source": [
    "# my_model.fit(df)\n",
    "forecast = Prophet(interval_width=0.95).fit(df).predict(future)\n"
   ]
  },
  {
   "cell_type": "code",
   "execution_count": 167,
   "metadata": {},
   "outputs": [],
   "source": [
    "# future = my_model.make_future_dataframe(periods = 365)\n",
    "# forecast = my_model.predict(future)"
   ]
  },
  {
   "cell_type": "code",
   "execution_count": 168,
   "metadata": {
    "collapsed": true
   },
   "outputs": [],
   "source": [
    "# We use matplotlib.pyplot for matplot-like plotting.\n",
    "import matplotlib.pyplot as plt"
   ]
  },
  {
   "cell_type": "code",
   "execution_count": 188,
   "metadata": {},
   "outputs": [
    {
     "ename": "TypeError",
     "evalue": "ufunc 'isfinite' not supported for the input types, and the inputs could not be safely coerced to any supported types according to the casting rule ''safe''",
     "output_type": "error",
     "traceback": [
      "\u001b[0;31m---------------------------------------------------------------------------\u001b[0m",
      "\u001b[0;31mTypeError\u001b[0m                                 Traceback (most recent call last)",
      "\u001b[0;32m<ipython-input-188-064a508780c8>\u001b[0m in \u001b[0;36m<module>\u001b[0;34m()\u001b[0m\n\u001b[0;32m----> 1\u001b[0;31m \u001b[0mmy_model\u001b[0m\u001b[0;34m.\u001b[0m\u001b[0mplot\u001b[0m\u001b[0;34m(\u001b[0m\u001b[0mforecast\u001b[0m\u001b[0;34m,\u001b[0m \u001b[0muncertainty\u001b[0m\u001b[0;34m=\u001b[0m\u001b[0;32mTrue\u001b[0m\u001b[0;34m)\u001b[0m\u001b[0;34m\u001b[0m\u001b[0m\n\u001b[0m\u001b[1;32m      2\u001b[0m \u001b[0;31m# Some error with my confidence interval\u001b[0m\u001b[0;34m\u001b[0m\u001b[0;34m\u001b[0m\u001b[0m\n",
      "\u001b[0;32m~/anaconda/lib/python3.6/site-packages/fbprophet/forecaster.py\u001b[0m in \u001b[0;36mplot\u001b[0;34m(self, fcst, ax, uncertainty, plot_cap, xlabel, ylabel)\u001b[0m\n\u001b[1;32m    887\u001b[0m             ax.fill_between(fcst['ds'].values, fcst['yhat_lower'],\n\u001b[1;32m    888\u001b[0m                             \u001b[0mfcst\u001b[0m\u001b[0;34m[\u001b[0m\u001b[0;34m'yhat_upper'\u001b[0m\u001b[0;34m]\u001b[0m\u001b[0;34m,\u001b[0m \u001b[0mcolor\u001b[0m\u001b[0;34m=\u001b[0m\u001b[0;34m'#0072B2'\u001b[0m\u001b[0;34m,\u001b[0m\u001b[0;34m\u001b[0m\u001b[0m\n\u001b[0;32m--> 889\u001b[0;31m                             alpha=0.2)\n\u001b[0m\u001b[1;32m    890\u001b[0m         \u001b[0max\u001b[0m\u001b[0;34m.\u001b[0m\u001b[0mgrid\u001b[0m\u001b[0;34m(\u001b[0m\u001b[0;32mTrue\u001b[0m\u001b[0;34m,\u001b[0m \u001b[0mwhich\u001b[0m\u001b[0;34m=\u001b[0m\u001b[0;34m'major'\u001b[0m\u001b[0;34m,\u001b[0m \u001b[0mc\u001b[0m\u001b[0;34m=\u001b[0m\u001b[0;34m'gray'\u001b[0m\u001b[0;34m,\u001b[0m \u001b[0mls\u001b[0m\u001b[0;34m=\u001b[0m\u001b[0;34m'-'\u001b[0m\u001b[0;34m,\u001b[0m \u001b[0mlw\u001b[0m\u001b[0;34m=\u001b[0m\u001b[0;36m1\u001b[0m\u001b[0;34m,\u001b[0m \u001b[0malpha\u001b[0m\u001b[0;34m=\u001b[0m\u001b[0;36m0.2\u001b[0m\u001b[0;34m)\u001b[0m\u001b[0;34m\u001b[0m\u001b[0m\n\u001b[1;32m    891\u001b[0m         \u001b[0max\u001b[0m\u001b[0;34m.\u001b[0m\u001b[0mset_xlabel\u001b[0m\u001b[0;34m(\u001b[0m\u001b[0mxlabel\u001b[0m\u001b[0;34m)\u001b[0m\u001b[0;34m\u001b[0m\u001b[0m\n",
      "\u001b[0;32m~/anaconda/lib/python3.6/site-packages/matplotlib/__init__.py\u001b[0m in \u001b[0;36minner\u001b[0;34m(ax, *args, **kwargs)\u001b[0m\n\u001b[1;32m   1708\u001b[0m                     warnings.warn(msg % (label_namer, func.__name__),\n\u001b[1;32m   1709\u001b[0m                                   RuntimeWarning, stacklevel=2)\n\u001b[0;32m-> 1710\u001b[0;31m             \u001b[0;32mreturn\u001b[0m \u001b[0mfunc\u001b[0m\u001b[0;34m(\u001b[0m\u001b[0max\u001b[0m\u001b[0;34m,\u001b[0m \u001b[0;34m*\u001b[0m\u001b[0margs\u001b[0m\u001b[0;34m,\u001b[0m \u001b[0;34m**\u001b[0m\u001b[0mkwargs\u001b[0m\u001b[0;34m)\u001b[0m\u001b[0;34m\u001b[0m\u001b[0m\n\u001b[0m\u001b[1;32m   1711\u001b[0m         \u001b[0mpre_doc\u001b[0m \u001b[0;34m=\u001b[0m \u001b[0minner\u001b[0m\u001b[0;34m.\u001b[0m\u001b[0m__doc__\u001b[0m\u001b[0;34m\u001b[0m\u001b[0m\n\u001b[1;32m   1712\u001b[0m         \u001b[0;32mif\u001b[0m \u001b[0mpre_doc\u001b[0m \u001b[0;32mis\u001b[0m \u001b[0;32mNone\u001b[0m\u001b[0;34m:\u001b[0m\u001b[0;34m\u001b[0m\u001b[0m\n",
      "\u001b[0;32m~/anaconda/lib/python3.6/site-packages/matplotlib/axes/_axes.py\u001b[0m in \u001b[0;36mfill_between\u001b[0;34m(self, x, y1, y2, where, interpolate, step, **kwargs)\u001b[0m\n\u001b[1;32m   4830\u001b[0m \u001b[0;34m\u001b[0m\u001b[0m\n\u001b[1;32m   4831\u001b[0m         \u001b[0;31m# Convert the arrays so we can work with them\u001b[0m\u001b[0;34m\u001b[0m\u001b[0;34m\u001b[0m\u001b[0m\n\u001b[0;32m-> 4832\u001b[0;31m         \u001b[0mx\u001b[0m \u001b[0;34m=\u001b[0m \u001b[0mma\u001b[0m\u001b[0;34m.\u001b[0m\u001b[0mmasked_invalid\u001b[0m\u001b[0;34m(\u001b[0m\u001b[0mself\u001b[0m\u001b[0;34m.\u001b[0m\u001b[0mconvert_xunits\u001b[0m\u001b[0;34m(\u001b[0m\u001b[0mx\u001b[0m\u001b[0;34m)\u001b[0m\u001b[0;34m)\u001b[0m\u001b[0;34m\u001b[0m\u001b[0m\n\u001b[0m\u001b[1;32m   4833\u001b[0m         \u001b[0my1\u001b[0m \u001b[0;34m=\u001b[0m \u001b[0mma\u001b[0m\u001b[0;34m.\u001b[0m\u001b[0mmasked_invalid\u001b[0m\u001b[0;34m(\u001b[0m\u001b[0mself\u001b[0m\u001b[0;34m.\u001b[0m\u001b[0mconvert_yunits\u001b[0m\u001b[0;34m(\u001b[0m\u001b[0my1\u001b[0m\u001b[0;34m)\u001b[0m\u001b[0;34m)\u001b[0m\u001b[0;34m\u001b[0m\u001b[0m\n\u001b[1;32m   4834\u001b[0m         \u001b[0my2\u001b[0m \u001b[0;34m=\u001b[0m \u001b[0mma\u001b[0m\u001b[0;34m.\u001b[0m\u001b[0mmasked_invalid\u001b[0m\u001b[0;34m(\u001b[0m\u001b[0mself\u001b[0m\u001b[0;34m.\u001b[0m\u001b[0mconvert_yunits\u001b[0m\u001b[0;34m(\u001b[0m\u001b[0my2\u001b[0m\u001b[0;34m)\u001b[0m\u001b[0;34m)\u001b[0m\u001b[0;34m\u001b[0m\u001b[0m\n",
      "\u001b[0;32m~/anaconda/lib/python3.6/site-packages/numpy/ma/core.py\u001b[0m in \u001b[0;36mmasked_invalid\u001b[0;34m(a, copy)\u001b[0m\n\u001b[1;32m   2386\u001b[0m         \u001b[0mcls\u001b[0m \u001b[0;34m=\u001b[0m \u001b[0mtype\u001b[0m\u001b[0;34m(\u001b[0m\u001b[0ma\u001b[0m\u001b[0;34m)\u001b[0m\u001b[0;34m\u001b[0m\u001b[0m\n\u001b[1;32m   2387\u001b[0m     \u001b[0;32melse\u001b[0m\u001b[0;34m:\u001b[0m\u001b[0;34m\u001b[0m\u001b[0m\n\u001b[0;32m-> 2388\u001b[0;31m         \u001b[0mcondition\u001b[0m \u001b[0;34m=\u001b[0m \u001b[0;34m~\u001b[0m\u001b[0;34m(\u001b[0m\u001b[0mnp\u001b[0m\u001b[0;34m.\u001b[0m\u001b[0misfinite\u001b[0m\u001b[0;34m(\u001b[0m\u001b[0ma\u001b[0m\u001b[0;34m)\u001b[0m\u001b[0;34m)\u001b[0m\u001b[0;34m\u001b[0m\u001b[0m\n\u001b[0m\u001b[1;32m   2389\u001b[0m         \u001b[0mcls\u001b[0m \u001b[0;34m=\u001b[0m \u001b[0mMaskedArray\u001b[0m\u001b[0;34m\u001b[0m\u001b[0m\n\u001b[1;32m   2390\u001b[0m     \u001b[0mresult\u001b[0m \u001b[0;34m=\u001b[0m \u001b[0ma\u001b[0m\u001b[0;34m.\u001b[0m\u001b[0mview\u001b[0m\u001b[0;34m(\u001b[0m\u001b[0mcls\u001b[0m\u001b[0;34m)\u001b[0m\u001b[0;34m\u001b[0m\u001b[0m\n",
      "\u001b[0;31mTypeError\u001b[0m: ufunc 'isfinite' not supported for the input types, and the inputs could not be safely coerced to any supported types according to the casting rule ''safe''"
     ]
    },
    {
     "data": {
      "image/png": "[encoded data removed]",
      "text/plain": [
       "<matplotlib.figure.Figure at 0x11c352b70>"
      ]
     },
     "metadata": {},
     "output_type": "display_data"
    }
   ],
   "source": [
    "my_model.plot(forecast, uncertainty=True)\n",
    "# Some error with my confidence interval, still gives a point estimate. "
   ]
  },
  {
   "cell_type": "code",
   "execution_count": 182,
   "metadata": {},
   "outputs": [
    {
     "data": {
      "text/html": [
       "<div>\n",
       "<style scoped>\n",
       "    .dataframe tbody tr th:only-of-type {\n",
       "        vertical-align: middle;\n",
       "    }\n",
       "\n",
       "    .dataframe tbody tr th {\n",
       "        vertical-align: top;\n",
       "    }\n",
       "\n",
       "    .dataframe thead th {\n",
       "        text-align: right;\n",
       "    }\n",
       "</style>\n",
       "<table border=\"1\" class=\"dataframe\">\n",
       "  <thead>\n",
       "    <tr style=\"text-align: right;\">\n",
       "      <th></th>\n",
       "      <th>t</th>\n",
       "      <th>trend</th>\n",
       "      <th>seasonal_lower</th>\n",
       "      <th>seasonal_upper</th>\n",
       "      <th>trend_lower</th>\n",
       "      <th>trend_upper</th>\n",
       "      <th>yhat_lower</th>\n",
       "      <th>yhat_upper</th>\n",
       "      <th>weekly</th>\n",
       "      <th>weekly_lower</th>\n",
       "      <th>weekly_upper</th>\n",
       "      <th>yearly</th>\n",
       "      <th>yearly_lower</th>\n",
       "      <th>yearly_upper</th>\n",
       "      <th>seasonal</th>\n",
       "      <th>yhat</th>\n",
       "    </tr>\n",
       "  </thead>\n",
       "  <tbody>\n",
       "    <tr>\n",
       "      <th>count</th>\n",
       "      <td>1624.000000</td>\n",
       "      <td>1624.000000</td>\n",
       "      <td>1624.000000</td>\n",
       "      <td>1624.000000</td>\n",
       "      <td>1624.000000</td>\n",
       "      <td>1624.000000</td>\n",
       "      <td>1624.000000</td>\n",
       "      <td>1624.000000</td>\n",
       "      <td>1624.000000</td>\n",
       "      <td>1624.000000</td>\n",
       "      <td>1624.000000</td>\n",
       "      <td>1624.000000</td>\n",
       "      <td>1624.000000</td>\n",
       "      <td>1624.000000</td>\n",
       "      <td>1624.000000</td>\n",
       "      <td>1624.000000</td>\n",
       "    </tr>\n",
       "    <tr>\n",
       "      <th>mean</th>\n",
       "      <td>0.635608</td>\n",
       "      <td>60.431880</td>\n",
       "      <td>-0.009646</td>\n",
       "      <td>-0.009646</td>\n",
       "      <td>59.150333</td>\n",
       "      <td>61.713242</td>\n",
       "      <td>55.543599</td>\n",
       "      <td>65.331176</td>\n",
       "      <td>-0.004780</td>\n",
       "      <td>-0.004780</td>\n",
       "      <td>-0.004780</td>\n",
       "      <td>-0.004866</td>\n",
       "      <td>-0.004866</td>\n",
       "      <td>-0.004866</td>\n",
       "      <td>-0.009646</td>\n",
       "      <td>60.422234</td>\n",
       "    </tr>\n",
       "    <tr>\n",
       "      <th>std</th>\n",
       "      <td>0.357827</td>\n",
       "      <td>11.144204</td>\n",
       "      <td>1.211581</td>\n",
       "      <td>1.211581</td>\n",
       "      <td>9.317702</td>\n",
       "      <td>13.470666</td>\n",
       "      <td>9.969937</td>\n",
       "      <td>12.418367</td>\n",
       "      <td>0.030607</td>\n",
       "      <td>0.030607</td>\n",
       "      <td>0.030607</td>\n",
       "      <td>1.211178</td>\n",
       "      <td>1.211178</td>\n",
       "      <td>1.211178</td>\n",
       "      <td>1.211581</td>\n",
       "      <td>11.039881</td>\n",
       "    </tr>\n",
       "    <tr>\n",
       "      <th>min</th>\n",
       "      <td>0.000000</td>\n",
       "      <td>37.684328</td>\n",
       "      <td>-1.982942</td>\n",
       "      <td>-1.982942</td>\n",
       "      <td>37.684328</td>\n",
       "      <td>37.684328</td>\n",
       "      <td>34.172140</td>\n",
       "      <td>42.729507</td>\n",
       "      <td>-0.036558</td>\n",
       "      <td>-0.036558</td>\n",
       "      <td>-0.036558</td>\n",
       "      <td>-1.946566</td>\n",
       "      <td>-1.946566</td>\n",
       "      <td>-1.946566</td>\n",
       "      <td>-1.982942</td>\n",
       "      <td>38.451964</td>\n",
       "    </tr>\n",
       "    <tr>\n",
       "      <th>25%</th>\n",
       "      <td>0.323973</td>\n",
       "      <td>52.249569</td>\n",
       "      <td>-1.261543</td>\n",
       "      <td>-1.261543</td>\n",
       "      <td>52.249569</td>\n",
       "      <td>52.249569</td>\n",
       "      <td>48.111747</td>\n",
       "      <td>56.422378</td>\n",
       "      <td>-0.034880</td>\n",
       "      <td>-0.034880</td>\n",
       "      <td>-0.034880</td>\n",
       "      <td>-1.256783</td>\n",
       "      <td>-1.256783</td>\n",
       "      <td>-1.256783</td>\n",
       "      <td>-1.261543</td>\n",
       "      <td>52.295054</td>\n",
       "    </tr>\n",
       "    <tr>\n",
       "      <th>50%</th>\n",
       "      <td>0.646849</td>\n",
       "      <td>58.609130</td>\n",
       "      <td>0.034108</td>\n",
       "      <td>0.034108</td>\n",
       "      <td>58.609130</td>\n",
       "      <td>58.609130</td>\n",
       "      <td>53.962266</td>\n",
       "      <td>62.288852</td>\n",
       "      <td>-0.017021</td>\n",
       "      <td>-0.017021</td>\n",
       "      <td>-0.017021</td>\n",
       "      <td>0.042704</td>\n",
       "      <td>0.042704</td>\n",
       "      <td>0.042704</td>\n",
       "      <td>0.034108</td>\n",
       "      <td>58.056869</td>\n",
       "    </tr>\n",
       "    <tr>\n",
       "      <th>75%</th>\n",
       "      <td>0.967534</td>\n",
       "      <td>70.081586</td>\n",
       "      <td>1.006039</td>\n",
       "      <td>1.006039</td>\n",
       "      <td>68.841451</td>\n",
       "      <td>70.081586</td>\n",
       "      <td>64.551695</td>\n",
       "      <td>72.829501</td>\n",
       "      <td>0.016656</td>\n",
       "      <td>0.016656</td>\n",
       "      <td>0.016656</td>\n",
       "      <td>1.009065</td>\n",
       "      <td>1.009065</td>\n",
       "      <td>1.009065</td>\n",
       "      <td>1.006039</td>\n",
       "      <td>68.728621</td>\n",
       "    </tr>\n",
       "    <tr>\n",
       "      <th>max</th>\n",
       "      <td>1.200000</td>\n",
       "      <td>81.614089</td>\n",
       "      <td>2.205096</td>\n",
       "      <td>2.205096</td>\n",
       "      <td>72.468964</td>\n",
       "      <td>96.031459</td>\n",
       "      <td>72.386650</td>\n",
       "      <td>97.305135</td>\n",
       "      <td>0.045662</td>\n",
       "      <td>0.045662</td>\n",
       "      <td>0.045662</td>\n",
       "      <td>2.160222</td>\n",
       "      <td>2.160222</td>\n",
       "      <td>2.160222</td>\n",
       "      <td>2.205096</td>\n",
       "      <td>82.331042</td>\n",
       "    </tr>\n",
       "  </tbody>\n",
       "</table>\n",
       "</div>"
      ],
      "text/plain": [
       "                 t        trend  seasonal_lower  seasonal_upper  trend_lower  \\\n",
       "count  1624.000000  1624.000000     1624.000000     1624.000000  1624.000000   \n",
       "mean      0.635608    60.431880       -0.009646       -0.009646    59.150333   \n",
       "std       0.357827    11.144204        1.211581        1.211581     9.317702   \n",
       "min       0.000000    37.684328       -1.982942       -1.982942    37.684328   \n",
       "25%       0.323973    52.249569       -1.261543       -1.261543    52.249569   \n",
       "50%       0.646849    58.609130        0.034108        0.034108    58.609130   \n",
       "75%       0.967534    70.081586        1.006039        1.006039    68.841451   \n",
       "max       1.200000    81.614089        2.205096        2.205096    72.468964   \n",
       "\n",
       "       trend_upper   yhat_lower   yhat_upper       weekly  weekly_lower  \\\n",
       "count  1624.000000  1624.000000  1624.000000  1624.000000   1624.000000   \n",
       "mean     61.713242    55.543599    65.331176    -0.004780     -0.004780   \n",
       "std      13.470666     9.969937    12.418367     0.030607      0.030607   \n",
       "min      37.684328    34.172140    42.729507    -0.036558     -0.036558   \n",
       "25%      52.249569    48.111747    56.422378    -0.034880     -0.034880   \n",
       "50%      58.609130    53.962266    62.288852    -0.017021     -0.017021   \n",
       "75%      70.081586    64.551695    72.829501     0.016656      0.016656   \n",
       "max      96.031459    72.386650    97.305135     0.045662      0.045662   \n",
       "\n",
       "       weekly_upper       yearly  yearly_lower  yearly_upper     seasonal  \\\n",
       "count   1624.000000  1624.000000   1624.000000   1624.000000  1624.000000   \n",
       "mean      -0.004780    -0.004866     -0.004866     -0.004866    -0.009646   \n",
       "std        0.030607     1.211178      1.211178      1.211178     1.211581   \n",
       "min       -0.036558    -1.946566     -1.946566     -1.946566    -1.982942   \n",
       "25%       -0.034880    -1.256783     -1.256783     -1.256783    -1.261543   \n",
       "50%       -0.017021     0.042704      0.042704      0.042704     0.034108   \n",
       "75%        0.016656     1.009065      1.009065      1.009065     1.006039   \n",
       "max        0.045662     2.160222      2.160222      2.160222     2.205096   \n",
       "\n",
       "              yhat  \n",
       "count  1624.000000  \n",
       "mean     60.422234  \n",
       "std      11.039881  \n",
       "min      38.451964  \n",
       "25%      52.295054  \n",
       "50%      58.056869  \n",
       "75%      68.728621  \n",
       "max      82.331042  "
      ]
     },
     "execution_count": 182,
     "metadata": {},
     "output_type": "execute_result"
    }
   ],
   "source": [
    "forecast.describe()\n"
   ]
  },
  {
   "cell_type": "markdown",
   "metadata": {},
   "source": [
    "\n",
    "Prophet uses baked in l1 regularization. It has a large number of potential change points, at which the rate is allowed to change. It then puts a sparse prior (l1 regularization). Essentially Prophet will set a large number of change points and only use a subset of them. "
   ]
  },
  {
   "cell_type": "markdown",
   "metadata": {},
   "source": [
    "By default Prophet fits weekly and yearly seasonalities, it can even fit sub-daily time series. The model updates it's priors with new information, the default prior scaling is 10 which provides very little regularization. "
   ]
  },
  {
   "cell_type": "markdown",
   "metadata": {},
   "source": [
    "There are three sources of uncertainty in the trend, uncertainty in the seasonality estimates, and additional observation noise. The biggest source of uncertainty in the forecast is the potential for future trend changes. The model can effectively fit the trend changes, but how do we predict trends in the future? We can assume it will be similar to the past, in that we assume that the average frequency and magnitude of trend changes in the future will be the same as in the past. \n",
    "This assumption probably will not hold, thus the coverage of the confidence interval may not be entirely accurate.\n",
    "\n"
   ]
  },
  {
   "cell_type": "markdown",
   "metadata": {
    "collapsed": true
   },
   "source": [
    "Like all models, Prophet is useful but still wrong, it is a simplifying assumption to only use time as a regressor, this is probably best used in concert with other models for prediction such as LSTM or GRU given you have a more complicated input space to which they can find mappings to. "
   ]
  },
  {
   "cell_type": "code",
   "execution_count": null,
   "metadata": {},
   "outputs": [],
   "source": []
  },
  {
   "cell_type": "code",
   "execution_count": null,
   "metadata": {
    "collapsed": true
   },
   "outputs": [],
   "source": []
  },
  {
   "cell_type": "code",
   "execution_count": null,
   "metadata": {
    "collapsed": true
   },
   "outputs": [],
   "source": []
  },
  {
   "cell_type": "code",
   "execution_count": null,
   "metadata": {
    "collapsed": true
   },
   "outputs": [],
   "source": []
  }
 ],
 "metadata": {
  "kernelspec": {
   "display_name": "Python [default]",
   "language": "python",
   "name": "python3"
  },
  "language_info": {
   "codemirror_mode": {
    "name": "ipython",
    "version": 3
   },
   "file_extension": ".py",
   "mimetype": "text/x-python",
   "name": "python",
   "nbconvert_exporter": "python",
   "pygments_lexer": "ipython3",
   "version": "3.6.2"
  }
 },
 "nbformat": 4,
 "nbformat_minor": 2
}
