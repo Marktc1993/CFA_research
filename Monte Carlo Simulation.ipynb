{
 "cells": [
  {
   "cell_type": "markdown",
   "metadata": {},
   "source": [
    "## Monte Carlo simulation using Python:\n",
    "\n"
   ]
  },
  {
   "cell_type": "markdown",
   "metadata": {},
   "source": [
    "Monte Carlo methods are a broad class of computational algorithms that rely on repeated random sampling to obtain numerical results. they essentially use randomness to solve problems that may be deterministic in application (identical inputs equate to identical outputs.\n",
    "\n",
    "We are going to look at a potential evolution of asset price over time, assuming they are subjet to daily returns that follow a gaussian distribution. Assume normality given the central limit theorem. \n",
    "\n",
    "Price evolutions are known as a random walk. \n",
    "\n",
    "To set up our simulation we need to estimate the expected return and variance of the stock. We can use historical prices, we can also adject the historical data to account for investor views or market regime changes (exponentially weighted moving averages?). For the purposes of this exercise we will look at expected returns and standard deviations. \n",
    "\n",
    "\n"
   ]
  },
  {
   "cell_type": "code",
   "execution_count": 47,
   "metadata": {},
   "outputs": [
    {
     "data": {
      "text/html": [
       "<div>\n",
       "<style>\n",
       "    .dataframe thead tr:only-child th {\n",
       "        text-align: right;\n",
       "    }\n",
       "\n",
       "    .dataframe thead th {\n",
       "        text-align: left;\n",
       "    }\n",
       "\n",
       "    .dataframe tbody tr th {\n",
       "        vertical-align: top;\n",
       "    }\n",
       "</style>\n",
       "<table border=\"1\" class=\"dataframe\">\n",
       "  <thead>\n",
       "    <tr style=\"text-align: right;\">\n",
       "      <th></th>\n",
       "      <th>Open</th>\n",
       "      <th>High</th>\n",
       "      <th>Low</th>\n",
       "      <th>Close</th>\n",
       "      <th>Adj Close</th>\n",
       "      <th>Volume</th>\n",
       "    </tr>\n",
       "    <tr>\n",
       "      <th>Date</th>\n",
       "      <th></th>\n",
       "      <th></th>\n",
       "      <th></th>\n",
       "      <th></th>\n",
       "      <th></th>\n",
       "      <th></th>\n",
       "    </tr>\n",
       "  </thead>\n",
       "  <tbody>\n",
       "    <tr>\n",
       "      <th>2000-01-03</th>\n",
       "      <td>8.641975</td>\n",
       "      <td>8.790123</td>\n",
       "      <td>8.345679</td>\n",
       "      <td>8.592592</td>\n",
       "      <td>4.931573</td>\n",
       "      <td>3280500</td>\n",
       "    </tr>\n",
       "    <tr>\n",
       "      <th>2000-01-04</th>\n",
       "      <td>8.555555</td>\n",
       "      <td>8.703704</td>\n",
       "      <td>8.148149</td>\n",
       "      <td>8.197531</td>\n",
       "      <td>4.704835</td>\n",
       "      <td>1701100</td>\n",
       "    </tr>\n",
       "    <tr>\n",
       "      <th>2000-01-05</th>\n",
       "      <td>8.172839</td>\n",
       "      <td>8.753086</td>\n",
       "      <td>8.160494</td>\n",
       "      <td>8.530864</td>\n",
       "      <td>4.896147</td>\n",
       "      <td>2105200</td>\n",
       "    </tr>\n",
       "    <tr>\n",
       "      <th>2000-01-06</th>\n",
       "      <td>8.506173</td>\n",
       "      <td>8.641975</td>\n",
       "      <td>8.271605</td>\n",
       "      <td>8.419753</td>\n",
       "      <td>4.832375</td>\n",
       "      <td>3530400</td>\n",
       "    </tr>\n",
       "    <tr>\n",
       "      <th>2000-01-07</th>\n",
       "      <td>8.407408</td>\n",
       "      <td>8.740741</td>\n",
       "      <td>8.197531</td>\n",
       "      <td>8.740741</td>\n",
       "      <td>5.016599</td>\n",
       "      <td>2677200</td>\n",
       "    </tr>\n",
       "  </tbody>\n",
       "</table>\n",
       "</div>"
      ],
      "text/plain": [
       "                Open      High       Low     Close  Adj Close   Volume\n",
       "Date                                                                  \n",
       "2000-01-03  8.641975  8.790123  8.345679  8.592592   4.931573  3280500\n",
       "2000-01-04  8.555555  8.703704  8.148149  8.197531   4.704835  1701100\n",
       "2000-01-05  8.172839  8.753086  8.160494  8.530864   4.896147  2105200\n",
       "2000-01-06  8.506173  8.641975  8.271605  8.419753   4.832375  3530400\n",
       "2000-01-07  8.407408  8.740741  8.197531  8.740741   5.016599  2677200"
      ]
     },
     "execution_count": 47,
     "metadata": {},
     "output_type": "execute_result"
    }
   ],
   "source": [
    "import numpy as np\n",
    "import math\n",
    "import pandas as pd\n",
    "import os \n",
    "import matplotlib.pyplot as plt\n",
    "from scipy.stats import norm\n",
    "from pandas_datareader import data\n",
    "import pandas_datareader as pdr\n",
    "PCAR = pdr.get_data_yahoo('PCAR', start ='1/1/2000')\n",
    "PCAR.head()"
   ]
  },
  {
   "cell_type": "code",
   "execution_count": 64,
   "metadata": {},
   "outputs": [
    {
     "name": "stdout",
     "output_type": "stream",
     "text": [
      "CAGR =16.66%\n",
      "The number of days is 6492\n"
     ]
    }
   ],
   "source": [
    "# Here we find the number of days since the start of records.\n",
    "\n",
    "days = (PCAR.index[-1] - PCAR.index[0]).days\n",
    "T = 252\n",
    "# Here we will calculate the compound annual growth rate (CAGR) which \n",
    "# will give us our mean return input\n",
    "\n",
    "cagr = ((PCAR['Adj Close'][-1]) / PCAR['Adj Close'][1]) ** (365 / days) -1 \n",
    "print('CAGR =' + str(round(cagr,4)*100) + '%')\n",
    "print('The number of days is ' + str(days))\n",
    "mu = cagr"
   ]
  },
  {
   "cell_type": "code",
   "execution_count": 65,
   "metadata": {},
   "outputs": [
    {
     "name": "stdout",
     "output_type": "stream",
     "text": [
      "Annual standard deviation = 36.0%\n"
     ]
    }
   ],
   "source": [
    "# Noe let's create a series of percentage returns and calculate \n",
    "# the annual standard deviation of returns\n",
    "PCAR['Returns'] = PCAR['Adj Close'].pct_change()\n",
    "std = PCAR['Returns'].std()*math.sqrt(T) # 252 is the number of trading days in a year\n",
    "print(\"Annual standard deviation = \" + str(round(std,2) * 100) + '%')"
   ]
  },
  {
   "cell_type": "markdown",
   "metadata": {},
   "source": [
    "Calculating the annual growth rate (CAGR) will give the mean return input (mu)\n"
   ]
  },
  {
   "cell_type": "code",
   "execution_count": 82,
   "metadata": {},
   "outputs": [
    {
     "name": "stdout",
     "output_type": "stream",
     "text": [
      "0.166610187124 0.3553424162369168 252 72.93\n"
     ]
    }
   ],
   "source": [
    "daily_returns=np.random.normal((1+mu)**(1/T),std/math.sqrt(T),T)+1\n",
    "print(mu, std, T, S)\n",
    "price_list = [S]"
   ]
  },
  {
   "cell_type": "code",
   "execution_count": 76,
   "metadata": {},
   "outputs": [],
   "source": [
    "for x in daily_returns:\n",
    "    price_list.append(price_list[-1] * x)"
   ]
  },
  {
   "cell_type": "code",
   "execution_count": 78,
   "metadata": {},
   "outputs": [
    {
     "data": {
      "image/png": "[encoded data removed]",
      "text/plain": [
       "<matplotlib.figure.Figure at 0x10db50a58>"
      ]
     },
     "metadata": {},
     "output_type": "display_data"
    },
    {
     "data": {
      "image/png": "[encoded data removed]",
      "text/plain": [
       "<matplotlib.figure.Figure at 0x1114a0908>"
      ]
     },
     "metadata": {},
     "output_type": "display_data"
    }
   ],
   "source": [
    "plt.plot(price_list)\n",
    "plt.show()\n",
    "plt.hist(daily_returns-1, 100)\n",
    "plt.show()"
   ]
  },
  {
   "cell_type": "markdown",
   "metadata": {},
   "source": [
    "Monte Carlo simulation, this code ran a single simulation of potential price series evolution over a trading year (252), it looks kind of shitty, based upon a draw of random daily returns that follow a normal distribution. This is represented by the line series shown in the first graph. This is represented by the single line series shown in the first chart. The second chart plots a histogram of those random daily returns over the year period. \n",
    "Gratefully the chances of the price evolving in this trend is almost zero.\n",
    "The value in simulation is running hundreds, thousands or tens of thousands of simulations. Each run produces a different series of potential price evolution based upon the same stock characteristics (mu and std). \n",
    "\n"
   ]
  },
  {
   "cell_type": "markdown",
   "metadata": {},
   "source": [
    "Let's make an adjustment to see multiple simulations. "
   ]
  }
 ],
 "metadata": {
  "kernelspec": {
   "display_name": "Python [conda root]",
   "language": "python",
   "name": "conda-root-py"
  },
  "language_info": {
   "codemirror_mode": {
    "name": "ipython",
    "version": 3
   },
   "file_extension": ".py",
   "mimetype": "text/x-python",
   "name": "python",
   "nbconvert_exporter": "python",
   "pygments_lexer": "ipython3",
   "version": "3.6.2"
  }
 },
 "nbformat": 4,
 "nbformat_minor": 2
}
